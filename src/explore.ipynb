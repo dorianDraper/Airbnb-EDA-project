{
    "cells": [
        {
            "cell_type": "markdown",
            "metadata": {},
            "source": [
                "<h1 style=\"Comic Sans MS; text-align: center; color: #FFC300\">Data Processing Project: EDA analysis of Airbnb datase</h1>"
            ]
        },
        {
            "cell_type": "markdown",
            "metadata": {},
            "source": [
                "<div>\n",
                "    <ol>\n",
                "        <li><a href=\"#step1\">Problem statement and data collection</a></li>    \n",
                "        <li><a href=\"#step2\">Exploration and data cleaning</a></li>\n",
                "        <li><a href=\"#step3\">Analysis of univariate variables</a></li>\n",
                "        <li><a href=\"#step4\">Analysis of multivariate variables</a></li>\n",
                "        <li><a href=\"#step5\">Feature engineering</a></li>\n",
                "        <li><a href=\"#step6\">Feature selection</a></li>\n",
                "    </ol>\n",
                "</div>"
            ]
        },
        {
            "cell_type": "markdown",
            "metadata": {},
            "source": [
                "<h3 id=\"step1\" style=\"font-family: Comic Sans MS; color: #68FF33\">1. Problem statement and data collection</h3>"
            ]
        },
        {
            "cell_type": "code",
            "execution_count": 34,
            "metadata": {},
            "outputs": [
                {
                    "data": {
                        "text/html": [
                            "<div>\n",
                            "<style scoped>\n",
                            "    .dataframe tbody tr th:only-of-type {\n",
                            "        vertical-align: middle;\n",
                            "    }\n",
                            "\n",
                            "    .dataframe tbody tr th {\n",
                            "        vertical-align: top;\n",
                            "    }\n",
                            "\n",
                            "    .dataframe thead th {\n",
                            "        text-align: right;\n",
                            "    }\n",
                            "</style>\n",
                            "<table border=\"1\" class=\"dataframe\">\n",
                            "  <thead>\n",
                            "    <tr style=\"text-align: right;\">\n",
                            "      <th></th>\n",
                            "      <th>id</th>\n",
                            "      <th>name</th>\n",
                            "      <th>host_id</th>\n",
                            "      <th>host_name</th>\n",
                            "      <th>neighbourhood_group</th>\n",
                            "      <th>neighbourhood</th>\n",
                            "      <th>latitude</th>\n",
                            "      <th>longitude</th>\n",
                            "      <th>room_type</th>\n",
                            "      <th>price</th>\n",
                            "      <th>minimum_nights</th>\n",
                            "      <th>number_of_reviews</th>\n",
                            "      <th>last_review</th>\n",
                            "      <th>reviews_per_month</th>\n",
                            "      <th>calculated_host_listings_count</th>\n",
                            "      <th>availability_365</th>\n",
                            "    </tr>\n",
                            "  </thead>\n",
                            "  <tbody>\n",
                            "    <tr>\n",
                            "      <th>0</th>\n",
                            "      <td>2539</td>\n",
                            "      <td>Clean &amp; quiet apt home by the park</td>\n",
                            "      <td>2787</td>\n",
                            "      <td>John</td>\n",
                            "      <td>Brooklyn</td>\n",
                            "      <td>Kensington</td>\n",
                            "      <td>40.64749</td>\n",
                            "      <td>-73.97237</td>\n",
                            "      <td>Private room</td>\n",
                            "      <td>149</td>\n",
                            "      <td>1</td>\n",
                            "      <td>9</td>\n",
                            "      <td>2018-10-19</td>\n",
                            "      <td>0.21</td>\n",
                            "      <td>6</td>\n",
                            "      <td>365</td>\n",
                            "    </tr>\n",
                            "    <tr>\n",
                            "      <th>1</th>\n",
                            "      <td>2595</td>\n",
                            "      <td>Skylit Midtown Castle</td>\n",
                            "      <td>2845</td>\n",
                            "      <td>Jennifer</td>\n",
                            "      <td>Manhattan</td>\n",
                            "      <td>Midtown</td>\n",
                            "      <td>40.75362</td>\n",
                            "      <td>-73.98377</td>\n",
                            "      <td>Entire home/apt</td>\n",
                            "      <td>225</td>\n",
                            "      <td>1</td>\n",
                            "      <td>45</td>\n",
                            "      <td>2019-05-21</td>\n",
                            "      <td>0.38</td>\n",
                            "      <td>2</td>\n",
                            "      <td>355</td>\n",
                            "    </tr>\n",
                            "    <tr>\n",
                            "      <th>2</th>\n",
                            "      <td>3647</td>\n",
                            "      <td>THE VILLAGE OF HARLEM....NEW YORK !</td>\n",
                            "      <td>4632</td>\n",
                            "      <td>Elisabeth</td>\n",
                            "      <td>Manhattan</td>\n",
                            "      <td>Harlem</td>\n",
                            "      <td>40.80902</td>\n",
                            "      <td>-73.94190</td>\n",
                            "      <td>Private room</td>\n",
                            "      <td>150</td>\n",
                            "      <td>3</td>\n",
                            "      <td>0</td>\n",
                            "      <td>NaN</td>\n",
                            "      <td>NaN</td>\n",
                            "      <td>1</td>\n",
                            "      <td>365</td>\n",
                            "    </tr>\n",
                            "    <tr>\n",
                            "      <th>3</th>\n",
                            "      <td>3831</td>\n",
                            "      <td>Cozy Entire Floor of Brownstone</td>\n",
                            "      <td>4869</td>\n",
                            "      <td>LisaRoxanne</td>\n",
                            "      <td>Brooklyn</td>\n",
                            "      <td>Clinton Hill</td>\n",
                            "      <td>40.68514</td>\n",
                            "      <td>-73.95976</td>\n",
                            "      <td>Entire home/apt</td>\n",
                            "      <td>89</td>\n",
                            "      <td>1</td>\n",
                            "      <td>270</td>\n",
                            "      <td>2019-07-05</td>\n",
                            "      <td>4.64</td>\n",
                            "      <td>1</td>\n",
                            "      <td>194</td>\n",
                            "    </tr>\n",
                            "    <tr>\n",
                            "      <th>4</th>\n",
                            "      <td>5022</td>\n",
                            "      <td>Entire Apt: Spacious Studio/Loft by central park</td>\n",
                            "      <td>7192</td>\n",
                            "      <td>Laura</td>\n",
                            "      <td>Manhattan</td>\n",
                            "      <td>East Harlem</td>\n",
                            "      <td>40.79851</td>\n",
                            "      <td>-73.94399</td>\n",
                            "      <td>Entire home/apt</td>\n",
                            "      <td>80</td>\n",
                            "      <td>10</td>\n",
                            "      <td>9</td>\n",
                            "      <td>2018-11-19</td>\n",
                            "      <td>0.10</td>\n",
                            "      <td>1</td>\n",
                            "      <td>0</td>\n",
                            "    </tr>\n",
                            "  </tbody>\n",
                            "</table>\n",
                            "</div>"
                        ],
                        "text/plain": [
                            "     id                                              name  host_id  \\\n",
                            "0  2539                Clean & quiet apt home by the park     2787   \n",
                            "1  2595                             Skylit Midtown Castle     2845   \n",
                            "2  3647               THE VILLAGE OF HARLEM....NEW YORK !     4632   \n",
                            "3  3831                   Cozy Entire Floor of Brownstone     4869   \n",
                            "4  5022  Entire Apt: Spacious Studio/Loft by central park     7192   \n",
                            "\n",
                            "     host_name neighbourhood_group neighbourhood  latitude  longitude  \\\n",
                            "0         John            Brooklyn    Kensington  40.64749  -73.97237   \n",
                            "1     Jennifer           Manhattan       Midtown  40.75362  -73.98377   \n",
                            "2    Elisabeth           Manhattan        Harlem  40.80902  -73.94190   \n",
                            "3  LisaRoxanne            Brooklyn  Clinton Hill  40.68514  -73.95976   \n",
                            "4        Laura           Manhattan   East Harlem  40.79851  -73.94399   \n",
                            "\n",
                            "         room_type  price  minimum_nights  number_of_reviews last_review  \\\n",
                            "0     Private room    149               1                  9  2018-10-19   \n",
                            "1  Entire home/apt    225               1                 45  2019-05-21   \n",
                            "2     Private room    150               3                  0         NaN   \n",
                            "3  Entire home/apt     89               1                270  2019-07-05   \n",
                            "4  Entire home/apt     80              10                  9  2018-11-19   \n",
                            "\n",
                            "   reviews_per_month  calculated_host_listings_count  availability_365  \n",
                            "0               0.21                               6               365  \n",
                            "1               0.38                               2               355  \n",
                            "2                NaN                               1               365  \n",
                            "3               4.64                               1               194  \n",
                            "4               0.10                               1                 0  "
                        ]
                    },
                    "execution_count": 34,
                    "metadata": {},
                    "output_type": "execute_result"
                }
            ],
            "source": [
                "import pandas as pd\n",
                "import numpy as np\n",
                "\n",
                "# Load the data\n",
                "path = 'C:/Users/Jorge Payà/Desktop/4Geeks/DSML Bootcamp/Airbnb-EDA-project/data/raw/AB_NYC_2019.csv'\n",
                "total_data = pd.read_csv(path)\n",
                "total_data.head()"
            ]
        },
        {
            "cell_type": "code",
            "execution_count": 35,
            "metadata": {},
            "outputs": [],
            "source": [
                "total_data.to_csv('C:/Users/Jorge Payà/Desktop/4Geeks/DSML Bootcamp/Airbnb-EDA-project/data/raw/total_data.csv', index=False)"
            ]
        },
        {
            "cell_type": "markdown",
            "metadata": {},
            "source": [
                "<h3 id=\"step2\" style=\"font-family: Comic Sans MS; color: #68FF33\">2. Exploration and data cleaning</h3>"
            ]
        },
        {
            "cell_type": "code",
            "execution_count": 36,
            "metadata": {},
            "outputs": [
                {
                    "name": "stdout",
                    "output_type": "stream",
                    "text": [
                        "(48895, 16)\n"
                    ]
                }
            ],
            "source": [
                "# Obtain dimensions\n",
                "print(total_data.shape)"
            ]
        },
        {
            "cell_type": "code",
            "execution_count": 37,
            "metadata": {},
            "outputs": [
                {
                    "name": "stdout",
                    "output_type": "stream",
                    "text": [
                        "<class 'pandas.core.frame.DataFrame'>\n",
                        "RangeIndex: 48895 entries, 0 to 48894\n",
                        "Data columns (total 16 columns):\n",
                        " #   Column                          Non-Null Count  Dtype  \n",
                        "---  ------                          --------------  -----  \n",
                        " 0   id                              48895 non-null  int64  \n",
                        " 1   name                            48879 non-null  object \n",
                        " 2   host_id                         48895 non-null  int64  \n",
                        " 3   host_name                       48874 non-null  object \n",
                        " 4   neighbourhood_group             48895 non-null  object \n",
                        " 5   neighbourhood                   48895 non-null  object \n",
                        " 6   latitude                        48895 non-null  float64\n",
                        " 7   longitude                       48895 non-null  float64\n",
                        " 8   room_type                       48895 non-null  object \n",
                        " 9   price                           48895 non-null  int64  \n",
                        " 10  minimum_nights                  48895 non-null  int64  \n",
                        " 11  number_of_reviews               48895 non-null  int64  \n",
                        " 12  last_review                     38843 non-null  object \n",
                        " 13  reviews_per_month               38843 non-null  float64\n",
                        " 14  calculated_host_listings_count  48895 non-null  int64  \n",
                        " 15  availability_365                48895 non-null  int64  \n",
                        "dtypes: float64(3), int64(7), object(6)\n",
                        "memory usage: 6.0+ MB\n",
                        "None\n"
                    ]
                }
            ],
            "source": [
                "# Obtain information about data types and missing values (aka null values)\n",
                "print(total_data.info())"
            ]
        },
        {
            "cell_type": "markdown",
            "metadata": {},
            "source": [
                "<p style=\"font-family: Comic Sans MS; color: #33FFFC\">\n",
                "There are a total of 48895 rows (in this case, vacation rentals) and 16 columns, among which we can find the target or class to predict. The variables <em>last_review</em> and <em>reviews_per_month</em> have 38843 instances with values, so they contain 10052 null values. The variable <em>host_name</em> also has null values, but in a much smaller number than the previous ones. The rest of the variables always have a value. The data has 8 numerical characteristics and 8 categorical characteristics as follows:\n",
                "    <ul style=\"font-family: Comic Sans MS; color: #33FFFC\">\n",
                "        <li>8 Numerical Characteristics (<em>latitude, longitude, price, minimum_nights, number_of_reviews, last_review, reviews_per_month, calculated_host_listings_count</em>)</li>\n",
                "        <li>8 Categorical Characteristics (<em>id, name, host_id, host_name, neighbourhood_group, neighbourhood, room_type, availability_365</em>)</li>\n",
                "    </ul>\n",
                "</p>"
            ]
        },
        {
            "cell_type": "markdown",
            "metadata": {},
            "source": [
                "<h5 style=\"font-family: Comic Sans MS; color: #68FF33\">Eliminate duplicates</h5>"
            ]
        },
        {
            "cell_type": "code",
            "execution_count": 38,
            "metadata": {},
            "outputs": [
                {
                    "name": "stdout",
                    "output_type": "stream",
                    "text": [
                        "The number of duplicated Name records is: 989\n",
                        "The number of duplicated Host ID records is: 11438\n",
                        "The number of duplicated ID records is: 0\n"
                    ]
                }
            ],
            "source": [
                "# Check if there are duplicates in the data\n",
                "print(f\"The number of duplicated Name records is: {total_data['name'].duplicated().sum()}\")\n",
                "print(f\"The number of duplicated Host ID records is: {total_data['host_id'].duplicated().sum()}\")\n",
                "print(f\"The number of duplicated ID records is: {total_data['id'].duplicated().sum()}\")"
            ]
        },
        {
            "cell_type": "markdown",
            "metadata": {},
            "source": [
                " <ul style=\"font-family: Comic Sans MS; color: #33FFFC\">\n",
                "    <li>name has duplicated values, which is odd, but duplicates can exist, since people can put the same names eg. House in Brooklyn.</li>\n",
                "    <li>host_id can have duplicates, because some home owners have multiple airbnbs registered.</li>\n",
                "    <li>There are 0 duplicated id, which means it should be all unique records.</li>\n",
                "</ul>\n"
            ]
        },
        {
            "cell_type": "markdown",
            "metadata": {},
            "source": [
                "<h5 style=\"font-family: Comic Sans MS; color: #68FF33\">Eliminate irrelevant information</h5>\n",
                "<p style=\"font-family: Comic Sans MS; color: #33FFFC\">\n",
                "    Now we have to try to be as objective as possible and carry out this preliminary process before the feature selection phase. Therefore, here what we will try to do is a controlled elimination of those variables that we can be sure that the algorithm will not use in the predictive process, the following have been considered as irrelevant: <em>\"id\", \"name\", \"host_name\", \"last_review\", \"reviews_per_month\"</em>.\n",
                "</p>"
            ]
        },
        {
            "cell_type": "code",
            "execution_count": 39,
            "metadata": {},
            "outputs": [
                {
                    "data": {
                        "text/html": [
                            "<div>\n",
                            "<style scoped>\n",
                            "    .dataframe tbody tr th:only-of-type {\n",
                            "        vertical-align: middle;\n",
                            "    }\n",
                            "\n",
                            "    .dataframe tbody tr th {\n",
                            "        vertical-align: top;\n",
                            "    }\n",
                            "\n",
                            "    .dataframe thead th {\n",
                            "        text-align: right;\n",
                            "    }\n",
                            "</style>\n",
                            "<table border=\"1\" class=\"dataframe\">\n",
                            "  <thead>\n",
                            "    <tr style=\"text-align: right;\">\n",
                            "      <th></th>\n",
                            "      <th>host_id</th>\n",
                            "      <th>neighbourhood_group</th>\n",
                            "      <th>neighbourhood</th>\n",
                            "      <th>latitude</th>\n",
                            "      <th>longitude</th>\n",
                            "      <th>room_type</th>\n",
                            "      <th>price</th>\n",
                            "      <th>minimum_nights</th>\n",
                            "      <th>number_of_reviews</th>\n",
                            "      <th>calculated_host_listings_count</th>\n",
                            "      <th>availability_365</th>\n",
                            "    </tr>\n",
                            "  </thead>\n",
                            "  <tbody>\n",
                            "    <tr>\n",
                            "      <th>0</th>\n",
                            "      <td>2787</td>\n",
                            "      <td>Brooklyn</td>\n",
                            "      <td>Kensington</td>\n",
                            "      <td>40.64749</td>\n",
                            "      <td>-73.97237</td>\n",
                            "      <td>Private room</td>\n",
                            "      <td>149</td>\n",
                            "      <td>1</td>\n",
                            "      <td>9</td>\n",
                            "      <td>6</td>\n",
                            "      <td>365</td>\n",
                            "    </tr>\n",
                            "    <tr>\n",
                            "      <th>1</th>\n",
                            "      <td>2845</td>\n",
                            "      <td>Manhattan</td>\n",
                            "      <td>Midtown</td>\n",
                            "      <td>40.75362</td>\n",
                            "      <td>-73.98377</td>\n",
                            "      <td>Entire home/apt</td>\n",
                            "      <td>225</td>\n",
                            "      <td>1</td>\n",
                            "      <td>45</td>\n",
                            "      <td>2</td>\n",
                            "      <td>355</td>\n",
                            "    </tr>\n",
                            "    <tr>\n",
                            "      <th>2</th>\n",
                            "      <td>4632</td>\n",
                            "      <td>Manhattan</td>\n",
                            "      <td>Harlem</td>\n",
                            "      <td>40.80902</td>\n",
                            "      <td>-73.94190</td>\n",
                            "      <td>Private room</td>\n",
                            "      <td>150</td>\n",
                            "      <td>3</td>\n",
                            "      <td>0</td>\n",
                            "      <td>1</td>\n",
                            "      <td>365</td>\n",
                            "    </tr>\n",
                            "    <tr>\n",
                            "      <th>3</th>\n",
                            "      <td>4869</td>\n",
                            "      <td>Brooklyn</td>\n",
                            "      <td>Clinton Hill</td>\n",
                            "      <td>40.68514</td>\n",
                            "      <td>-73.95976</td>\n",
                            "      <td>Entire home/apt</td>\n",
                            "      <td>89</td>\n",
                            "      <td>1</td>\n",
                            "      <td>270</td>\n",
                            "      <td>1</td>\n",
                            "      <td>194</td>\n",
                            "    </tr>\n",
                            "    <tr>\n",
                            "      <th>4</th>\n",
                            "      <td>7192</td>\n",
                            "      <td>Manhattan</td>\n",
                            "      <td>East Harlem</td>\n",
                            "      <td>40.79851</td>\n",
                            "      <td>-73.94399</td>\n",
                            "      <td>Entire home/apt</td>\n",
                            "      <td>80</td>\n",
                            "      <td>10</td>\n",
                            "      <td>9</td>\n",
                            "      <td>1</td>\n",
                            "      <td>0</td>\n",
                            "    </tr>\n",
                            "  </tbody>\n",
                            "</table>\n",
                            "</div>"
                        ],
                        "text/plain": [
                            "   host_id neighbourhood_group neighbourhood  latitude  longitude  \\\n",
                            "0     2787            Brooklyn    Kensington  40.64749  -73.97237   \n",
                            "1     2845           Manhattan       Midtown  40.75362  -73.98377   \n",
                            "2     4632           Manhattan        Harlem  40.80902  -73.94190   \n",
                            "3     4869            Brooklyn  Clinton Hill  40.68514  -73.95976   \n",
                            "4     7192           Manhattan   East Harlem  40.79851  -73.94399   \n",
                            "\n",
                            "         room_type  price  minimum_nights  number_of_reviews  \\\n",
                            "0     Private room    149               1                  9   \n",
                            "1  Entire home/apt    225               1                 45   \n",
                            "2     Private room    150               3                  0   \n",
                            "3  Entire home/apt     89               1                270   \n",
                            "4  Entire home/apt     80              10                  9   \n",
                            "\n",
                            "   calculated_host_listings_count  availability_365  \n",
                            "0                               6               365  \n",
                            "1                               2               355  \n",
                            "2                               1               365  \n",
                            "3                               1               194  \n",
                            "4                               1                 0  "
                        ]
                    },
                    "execution_count": 39,
                    "metadata": {},
                    "output_type": "execute_result"
                }
            ],
            "source": [
                "total_data.drop(['id', 'name', 'host_name', 'last_review', 'reviews_per_month'], axis=1, inplace=True)\n",
                "total_data.head()"
            ]
        },
        {
            "cell_type": "markdown",
            "metadata": {},
            "source": [
                "<h3 id=\"step3\" style=\"font-family: Comic Sans MS; color: #68FF33\">3. Analysis of univariate variables</h3>\n",
                "<p style=\"font-family: Comic Sans MS; color: #33FFFC\">We must distinguish whether a variable is categorical or numerical. After removing irrelevant variables, we have the following:\n",
                "    <ul style=\"font-family: Comic Sans MS; color: #33FFFC\">\n",
                "        <li>6 Numerical Characteristics (<em>latitude, longitude, price, minimum_nights, number_of_reviews, calculated_host_listings_count</em>)</li>\n",
                "        <li>5 Categorical Characteristics (<em>host_id, neighbourhood_group, neighbourhood, room_type, availability_365</em>)</li>\n",
                "    </ul>\n",
                "</p>\n",
                "<h5 style=\"font-family: Comic Sans MS; color: #68FF33\">Analysis on categorical variables</h5>"
            ]
        },
        {
            "cell_type": "code",
            "execution_count": null,
            "metadata": {},
            "outputs": [],
            "source": []
        },
        {
            "cell_type": "markdown",
            "metadata": {},
            "source": [
                "<h3 id=\"step4\" style=\"font-family: Comic Sans MS; color: #68FF33\">4. Analysis of multivariate variables</h3>"
            ]
        },
        {
            "cell_type": "code",
            "execution_count": null,
            "metadata": {},
            "outputs": [],
            "source": []
        },
        {
            "cell_type": "markdown",
            "metadata": {},
            "source": [
                "<h3 id=\"step5\" style=\"font-family: Comic Sans MS; color: #68FF33\">5. Feature engineering</h3>"
            ]
        },
        {
            "cell_type": "code",
            "execution_count": null,
            "metadata": {},
            "outputs": [],
            "source": []
        },
        {
            "cell_type": "code",
            "execution_count": null,
            "metadata": {},
            "outputs": [],
            "source": []
        },
        {
            "cell_type": "markdown",
            "metadata": {},
            "source": [
                "<h3 id=\"step6\" style=\"font-family: Comic Sans MS; color: #68FF33\">6. Feature selection</h3>"
            ]
        },
        {
            "cell_type": "code",
            "execution_count": null,
            "metadata": {},
            "outputs": [],
            "source": []
        }
    ],
    "metadata": {
        "kernelspec": {
            "display_name": "Python 3.8.13 64-bit ('3.8.13')",
            "language": "python",
            "name": "python3"
        },
        "language_info": {
            "codemirror_mode": {
                "name": "ipython",
                "version": 3
            },
            "file_extension": ".py",
            "mimetype": "text/x-python",
            "name": "python",
            "nbconvert_exporter": "python",
            "pygments_lexer": "ipython3",
            "version": "3.11.3"
        },
        "orig_nbformat": 4,
        "vscode": {
            "interpreter": {
                "hash": "110cc1dee26208153f2972f08a2ad52b6a56238dc66d48e87fb757ef2996db56"
            }
        }
    },
    "nbformat": 4,
    "nbformat_minor": 2
}
